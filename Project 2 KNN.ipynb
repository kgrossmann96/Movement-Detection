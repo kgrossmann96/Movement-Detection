{
 "cells": [
  {
   "cell_type": "code",
   "execution_count": 2,
   "metadata": {
    "collapsed": true
   },
   "outputs": [],
   "source": [
    "import pandas\n",
    "from sklearn import metrics\n",
    "from sklearn import grid_search\n",
    "from sklearn.neighbors import KNeighborsClassifier\n",
    "from sklearn.linear_model import SGDClassifier\n",
    "from sklearn import svm\n",
    "from sklearn.cross_validation import train_test_split\n",
    "from sklearn.metrics import confusion_matrix\n",
    "import matplotlib.pyplot as plt \n",
    "%matplotlib inline\n",
    "\n",
    "train_1 = pandas.read_csv('train_one.csv')\n",
    "test_1 = pandas.read_csv('test_one.csv')\n",
    "\n",
    "train_15 = pandas.read_csv('train_fifteen.csv')\n",
    "test_15 = pandas.read_csv('test_fifteen.csv')\n",
    "\n",
    "collect=pandas.read_csv('final10.csv')\n",
    "\n",
    "result=pandas.read_csv('results.csv',header=None)"
   ]
  },
  {
   "cell_type": "code",
   "execution_count": 11,
   "metadata": {},
   "outputs": [],
   "source": [
    "train_1_predictors=train_1.columns.values[:-1]\n",
    "train_1_target=train_1.columns.values[-1]\n",
    "test_1_predictors=test_1.columns.values[:-1]\n",
    "test_1_target=test_1.columns.values[-1]"
   ]
  },
  {
   "cell_type": "code",
   "execution_count": 12,
   "metadata": {},
   "outputs": [
    {
     "name": "stderr",
     "output_type": "stream",
     "text": [
      "C:\\Users\\Kyle\\Anaconda3\\lib\\site-packages\\sklearn\\cross_validation.py:516: Warning: The least populated class in y has only 2 members, which is too few. The minimum number of labels for any class cannot be less than n_folds=3.\n",
      "  % (min_labels, self.n_folds)), Warning)\n"
     ]
    },
    {
     "name": "stdout",
     "output_type": "stream",
     "text": [
      "1\n",
      "uniform\n",
      "0.966666666667\n"
     ]
    }
   ],
   "source": [
    "KNNparameters = {'n_neighbors':[1,3,5,11,17,25],'weights':['uniform','distance']}\n",
    "KNN_1 = grid_search.GridSearchCV(KNeighborsClassifier(), KNNparameters)\n",
    "KNN_1.fit(train_1[train_1_predictors],train_1[train_1_target])\n",
    "predictions_1 = KNN_1.predict(test_1[test_1_predictors])\n",
    "print(KNN_1.best_estimator_.n_neighbors) \n",
    "print(KNN_1.best_estimator_.weights)\n",
    "print(metrics.accuracy_score(test_1[test_1_target], predictions_1))"
   ]
  },
  {
   "cell_type": "code",
   "execution_count": 3,
   "metadata": {},
   "outputs": [],
   "source": [
    "train_15_predictors = train_15.columns.values[:-1]\n",
    "train_15_target = train_15.columns.values[-1]\n",
    "test_15_predictors = test_15.columns.values[:-1]\n",
    "test_15_target = test_15.columns.values[-1]"
   ]
  },
  {
   "cell_type": "code",
   "execution_count": 11,
   "metadata": {},
   "outputs": [
    {
     "name": "stderr",
     "output_type": "stream",
     "text": [
      "C:\\Users\\Kyle\\Anaconda3\\lib\\site-packages\\sklearn\\cross_validation.py:516: Warning: The least populated class in y has only 2 members, which is too few. The minimum number of labels for any class cannot be less than n_folds=3.\n",
      "  % (min_labels, self.n_folds)), Warning)\n"
     ]
    },
    {
     "name": "stdout",
     "output_type": "stream",
     "text": [
      "17\n",
      "distance\n",
      "0.766666666667\n",
      "[[12  0  0]\n",
      " [ 5 11  0]\n",
      " [ 2  0  0]]\n"
     ]
    }
   ],
   "source": [
    "KNNparameters = {'n_neighbors':[1,3,5,11,17,25],'weights':['uniform','distance']}\n",
    "KNN_15 = grid_search.GridSearchCV(KNeighborsClassifier(), KNNparameters)\n",
    "KNN_15.fit(train_15[train_15_predictors],train_15[train_15_target])\n",
    "predictions_15 = KNN_15.predict(test_15[test_15_predictors])\n",
    "print(KNN_15.best_estimator_.n_neighbors) \n",
    "print(KNN_15.best_estimator_.weights)\n",
    "print(metrics.accuracy_score(test_15[test_15_target], predictions_15))\n",
    "print(confusion_matrix(test_15[test_15_target], predictions_15))"
   ]
  },
  {
   "cell_type": "code",
   "execution_count": null,
   "metadata": {},
   "outputs": [],
   "source": [
    "train_loop_tar = train_15.columns.values[-1]\n",
    "test_loop_tar = test_15.columns.values[-1]\n",
    "total_sec=[]\n",
    "accuracies=[]\n",
    "KNNparameters = {'n_neighbors':[1,3,5,9,11,15,17,21,25],'weights':['uniform','distance']}\n",
    "for i in range(0,7):\n",
    "    cutoff=(3*25*i)\n",
    "    train_loop_pred = train_15.columns.values[cutoff:-1] \n",
    "    test_loop_pred = test_15.columns.values[cutoff:-1] \n",
    "    \n",
    "    KNN_loop = grid_search.GridSearchCV(KNeighborsClassifier(), KNNparameters)\n",
    "    KNN_loop.fit(train_15[train_loop_pred],train_15[train_loop_tar])\n",
    "    predictions_loop = KNN_loop.predict(test_15[test_loop_pred])\n",
    "    #print(KNN_loop.best_estimator_.n_neighbors) \n",
    "    #print(KNN_loop.best_estimator_.weights)\n",
    "    #print(metrics.accuracy_score(test_15[test_loop_tar], predictions_loop))\n",
    "    total_sec.append(15-i)\n",
    "    accuracies.append(metrics.accuracy_score(test_15[test_loop_tar], predictions_loop))\n",
    "\n",
    "\n",
    "xvals = total_sec\n",
    "series1 = accuracies\n",
    "plt.suptitle(\"Accuracies for Different Lead Times\",fontsize=18) \n",
    "plt.xlabel(\"Total seconds\") \n",
    "plt.ylabel(\"Accuracy %\") \n",
    "plt.plot(xvals,series1,'gs-',label=\"KNN\") \n",
    "plt.legend(loc='lower right', shadow=True)\n",
    "#plt.axis([0, neighbor_nums[len(neighbor_nums)-1]+15, 0, biggest*1.1]) \n",
    "plt.show()"
   ]
  },
  {
   "cell_type": "code",
   "execution_count": null,
   "metadata": {},
   "outputs": [],
   "source": [
    "train_loop_tar = train_15.columns.values[-1]\n",
    "test_loop_tar = test_15.columns.values[-1]\n",
    "total_sec2=[]\n",
    "accuracies2=[]\n",
    "for i in range(0,7):\n",
    "    cutoff=(3*25*i)\n",
    "    train_loop_pred = train_15.columns.values[cutoff:-1] \n",
    "    test_loop_pred = test_15.columns.values[cutoff:-1] \n",
    "    \n",
    "    KNN_loop = KNeighborsClassifier(n_neighbors=17,weights='distance')\n",
    "    KNN_loop.fit(train_15[train_loop_pred],train_15[train_loop_tar])\n",
    "    predictions_loop = KNN_loop.predict(test_15[test_loop_pred])\n",
    "    total_sec2.append(15-i)\n",
    "    accuracies2.append(metrics.accuracy_score(test_15[test_loop_tar], predictions_loop))\n",
    "    \n",
    "    \n",
    "xvals = total_sec2\n",
    "series1 = accuracies2\n",
    "plt.suptitle(\"Accuracies for Different Lead Times\",fontsize=18) \n",
    "plt.xlabel(\"Total seconds\") \n",
    "plt.ylabel(\"Accuracy %\") \n",
    "plt.plot(xvals,series1,'gs-',label=\"KNN\") \n",
    "plt.legend(loc='lower right', shadow=True)\n",
    "#plt.axis([0, neighbor_nums[len(neighbor_nums)-1]+15, 0, biggest*1.1]) \n",
    "plt.show()"
   ]
  },
  {
   "cell_type": "code",
   "execution_count": 1,
   "metadata": {},
   "outputs": [
    {
     "ename": "NameError",
     "evalue": "name 'collect' is not defined",
     "output_type": "error",
     "traceback": [
      "\u001b[0;31m---------------------------------------------------------------------------\u001b[0m",
      "\u001b[0;31mNameError\u001b[0m                                 Traceback (most recent call last)",
      "\u001b[0;32m<ipython-input-1-41fc363620fa>\u001b[0m in \u001b[0;36m<module>\u001b[0;34m()\u001b[0m\n\u001b[0;32m----> 1\u001b[0;31m \u001b[0mpreds\u001b[0m\u001b[1;33m=\u001b[0m\u001b[0mcollect\u001b[0m\u001b[1;33m.\u001b[0m\u001b[0mcolumns\u001b[0m\u001b[1;33m.\u001b[0m\u001b[0mvalues\u001b[0m\u001b[1;33m[\u001b[0m\u001b[1;33m:\u001b[0m\u001b[1;33m-\u001b[0m\u001b[1;36m2\u001b[0m\u001b[1;33m]\u001b[0m\u001b[1;33m\u001b[0m\u001b[0m\n\u001b[0m\u001b[1;32m      2\u001b[0m \u001b[0mtarget\u001b[0m\u001b[1;33m=\u001b[0m\u001b[0mcollect\u001b[0m\u001b[1;33m.\u001b[0m\u001b[0mcolumns\u001b[0m\u001b[1;33m.\u001b[0m\u001b[0mvalues\u001b[0m\u001b[1;33m[\u001b[0m\u001b[1;33m-\u001b[0m\u001b[1;36m2\u001b[0m\u001b[1;33m]\u001b[0m\u001b[1;33m\u001b[0m\u001b[0m\n\u001b[1;32m      3\u001b[0m \u001b[0mtarget_bin\u001b[0m\u001b[1;33m=\u001b[0m\u001b[0mcollect\u001b[0m\u001b[1;33m.\u001b[0m\u001b[0mcolumns\u001b[0m\u001b[1;33m.\u001b[0m\u001b[0mvalues\u001b[0m\u001b[1;33m[\u001b[0m\u001b[1;33m-\u001b[0m\u001b[1;36m1\u001b[0m\u001b[1;33m]\u001b[0m\u001b[1;33m\u001b[0m\u001b[0m\n\u001b[1;32m      4\u001b[0m \u001b[1;33m\u001b[0m\u001b[0m\n\u001b[1;32m      5\u001b[0m \u001b[0macc\u001b[0m\u001b[1;33m=\u001b[0m\u001b[1;36m0\u001b[0m\u001b[1;33m\u001b[0m\u001b[0m\n",
      "\u001b[0;31mNameError\u001b[0m: name 'collect' is not defined"
     ]
    }
   ],
   "source": [
    "preds=collect.columns.values[:-2]\n",
    "target=collect.columns.values[-2]\n",
    "target_bin=collect.columns.values[-1]\n",
    "\n",
    "acc=0\n",
    "acc_bin=0\n",
    "for i in range(0,30):\n",
    "    (training, testing) = train_test_split(collect, test_size = 0.2)\n",
    "\n",
    "    KNNparameters = {'n_neighbors':[1,3,5,11,15,17,19],'weights':['uniform','distance']}\n",
    "    KNN_collect = grid_search.GridSearchCV(KNeighborsClassifier(), KNNparameters)\n",
    "    KNN_bin = grid_search.GridSearchCV(KNeighborsClassifier(), KNNparameters)\n",
    "    #KNN_collect=KNeighborsClassifier()\n",
    "    KNN_collect.fit(training[preds],training[target])\n",
    "    predictions_collect = KNN_collect.predict(testing[preds])\n",
    "    \n",
    "    KNN_bin.fit(training[preds],training[target_bin])\n",
    "    predictions_bin = KNN_bin.predict(testing[preds])\n",
    "    '''print(KNN_collect.best_estimator_.n_neighbors) \n",
    "    print(KNN_collect.best_estimator_.weights)'''\n",
    "    #print(metrics.accuracy_score(testing[target], predictions_collect))\n",
    "    acc+=metrics.accuracy_score(testing[target], predictions_collect)\n",
    "    acc_bin+=metrics.accuracy_score(testing[target_bin], predictions_bin)\n",
    "    if(i%3==0):\n",
    "        print(confusion_matrix(testing[target_bin], predictions_bin))\n",
    "\n",
    "final_acc=(acc/30)\n",
    "av_acc=(acc_bin/30)\n",
    "print(\"Average accuracy:\" +str(final_acc))\n",
    "print(\"Average accuracy (binary):\" +str(av_acc))"
   ]
  },
  {
   "cell_type": "code",
   "execution_count": null,
   "metadata": {},
   "outputs": [],
   "source": [
    "preds=result.columns.values[:-1]\n",
    "target=result.columns.values[-1]\n",
    "\n",
    "acc=0\n",
    "for i in range(0,30):\n",
    "    (training, testing) = train_test_split(collect, test_size = 0.2)\n",
    "\n",
    "    KNNparameters = {'n_neighbors':[1,3,5,11,15,17,19],'weights':['uniform','distance']}\n",
    "    KNN_result = grid_search.GridSearchCV(KNeighborsClassifier(), KNNparameters)\n",
    "    #KNN_collect=KNeighborsClassifier()\n",
    "    KNN_result.fit(training[preds],training[target])\n",
    "    predictions_result = KNN_result.predict(testing[preds])\n",
    "    '''print(KNN_collect.best_estimator_.n_neighbors) \n",
    "    print(KNN_collect.best_estimator_.weights)'''\n",
    "    #print(metrics.accuracy_score(testing[target], predictions_collect))\n",
    "    acc+=metrics.accuracy_score(testing[target], predictions_result)\n",
    "\n",
    "final_acc=(acc/30)\n",
    "print(\"Average accuracy:\" +str(final_acc))"
   ]
  },
  {
   "cell_type": "code",
   "execution_count": 22,
   "metadata": {},
   "outputs": [
    {
     "name": "stderr",
     "output_type": "stream",
     "text": [
      "C:\\Users\\Kyle\\Anaconda3\\lib\\site-packages\\sklearn\\cross_validation.py:516: Warning: The least populated class in y has only 2 members, which is too few. The minimum number of labels for any class cannot be less than n_folds=3.\n",
      "  % (min_labels, self.n_folds)), Warning)\n"
     ]
    },
    {
     "name": "stdout",
     "output_type": "stream",
     "text": [
      "1\n",
      "uniform\n",
      "0.933333333333\n"
     ]
    }
   ],
   "source": [
    "train_2_predictors = train_15.columns.values[450:-451]\n",
    "train_2_target = train_15.columns.values[-1]\n",
    "test_2_predictors = test_15.columns.values[450:-451]\n",
    "test_2_target = test_15.columns.values[-1]\n",
    "\n",
    "KNNparameters = {'n_neighbors':[1,3,5,11,17,25],'weights':['uniform','distance']}\n",
    "KNN_2 = grid_search.GridSearchCV(KNeighborsClassifier(), KNNparameters)\n",
    "KNN_2.fit(train_15[train_2_predictors],train_15[train_2_target])\n",
    "predictions_2 = KNN_2.predict(test_15[test_2_predictors])\n",
    "print(KNN_2.best_estimator_.n_neighbors) \n",
    "print(KNN_2.best_estimator_.weights)\n",
    "print(metrics.accuracy_score(test_15[test_2_target], predictions_2))"
   ]
  },
  {
   "cell_type": "code",
   "execution_count": 7,
   "metadata": {},
   "outputs": [
    {
     "name": "stderr",
     "output_type": "stream",
     "text": [
      "C:\\Users\\Kyle\\Anaconda3\\lib\\site-packages\\sklearn\\cross_validation.py:516: Warning: The least populated class in y has only 2 members, which is too few. The minimum number of labels for any class cannot be less than n_folds=3.\n",
      "  % (min_labels, self.n_folds)), Warning)\n"
     ]
    },
    {
     "name": "stdout",
     "output_type": "stream",
     "text": [
      "invscaling\n",
      "0.5\n",
      "0.433333333333\n"
     ]
    }
   ],
   "source": [
    "SGDparameters = {'learning_rate':['constant','optimal','invscaling'],'eta0':[.001,.01,.1,.25,.5]}\n",
    "SGD_15 = grid_search.GridSearchCV(SGDClassifier(), SGDparameters)\n",
    "SGD_15.fit(train_15[train_15_predictors],train_15[train_15_target])\n",
    "predictions_15 = SGD_15.predict(test_15[test_15_predictors]) \n",
    "print(SGD_15.best_estimator_.learning_rate)\n",
    "print(SGD_15.best_estimator_.eta0) \n",
    "print(metrics.accuracy_score(test_15[test_15_target], predictions_15))"
   ]
  },
  {
   "cell_type": "code",
   "execution_count": 8,
   "metadata": {},
   "outputs": [
    {
     "name": "stdout",
     "output_type": "stream",
     "text": [
      "Average accuracy:0.17037037037\n",
      "Average accuracy (binary):0.622222222222\n"
     ]
    }
   ],
   "source": [
    "preds=collect.columns.values[:-2]\n",
    "target=collect.columns.values[-2]\n",
    "target_bin=collect.columns.values[-1]\n",
    "\n",
    "acc=0\n",
    "acc_bin=0\n",
    "for i in range(0,30):\n",
    "    (training, testing) = train_test_split(collect, test_size = 0.2)\n",
    "\n",
    "    SGDparameters = {'learning_rate':['constant','optimal','invscaling'],'eta0':[.001,.01,.1,.25,.5]}\n",
    "    SGD_collect = grid_search.GridSearchCV(SGDClassifier(), SGDparameters)\n",
    "    SGD_bin=grid_search.GridSearchCV(SGDClassifier(), SGDparameters)\n",
    "    #KNN_collect=KNeighborsClassifier()\n",
    "    SGD_collect.fit(training[preds],training[target])\n",
    "    predictions_collect = SGD_collect.predict(testing[preds])\n",
    "    \n",
    "    SGD_bin.fit(training[preds],training[target_bin])\n",
    "    predictions_bin = SGD_bin.predict(testing[preds])\n",
    "    '''print(KNN_collect.best_estimator_.n_neighbors) \n",
    "    print(KNN_collect.best_estimator_.weights)'''\n",
    "    #print(metrics.accuracy_score(testing[target], predictions_collect))\n",
    "    acc+=metrics.accuracy_score(testing[target], predictions_collect)\n",
    "    acc_bin+=metrics.accuracy_score(testing[target_bin], predictions_bin)\n",
    "\n",
    "final_acc=(acc/30)\n",
    "av_acc=(acc_bin/30)\n",
    "print(\"Average accuracy:\" +str(final_acc))\n",
    "print(\"Average accuracy (binary):\" +str(av_acc))"
   ]
  },
  {
   "cell_type": "code",
   "execution_count": 10,
   "metadata": {},
   "outputs": [
    {
     "name": "stderr",
     "output_type": "stream",
     "text": [
      "C:\\Users\\Kyle\\Anaconda3\\lib\\site-packages\\sklearn\\cross_validation.py:516: Warning: The least populated class in y has only 2 members, which is too few. The minimum number of labels for any class cannot be less than n_folds=3.\n",
      "  % (min_labels, self.n_folds)), Warning)\n"
     ]
    },
    {
     "name": "stdout",
     "output_type": "stream",
     "text": [
      "1\n",
      "rbf\n",
      "0\n",
      "0.4\n"
     ]
    }
   ],
   "source": [
    "SVMparameters = {'C':[.75,1,1.25,1.5,2],'kernel':['linear','rbf','sigmoid','poly'],'coef0':[0,.001,.01,.1,.25,.5]}\n",
    "SVM_15 = grid_search.GridSearchCV(svm.SVC(), SVMparameters)\n",
    "SVM_15.fit(train_15[train_15_predictors],train_15[train_15_target])\n",
    "predictions_15 = SVM_15.predict(test_15[test_15_predictors])\n",
    "print(SVM_15.best_estimator_.C) \n",
    "print(SVM_15.best_estimator_.kernel)\n",
    "print(SVM_15.best_estimator_.coef0) \n",
    "print(metrics.accuracy_score(test_15[test_15_target], predictions_15))"
   ]
  },
  {
   "cell_type": "code",
   "execution_count": 4,
   "metadata": {},
   "outputs": [
    {
     "name": "stdout",
     "output_type": "stream",
     "text": [
      "Average accuracy:0.211111111111\n",
      "Average accuracy (binary):0.777777777778\n"
     ]
    }
   ],
   "source": [
    "preds=collect.columns.values[:-2]\n",
    "target=collect.columns.values[-2]\n",
    "target_bin=collect.columns.values[-1]\n",
    "\n",
    "acc=0\n",
    "acc_bin=0\n",
    "for i in range(0,30):\n",
    "    (training, testing) = train_test_split(collect, test_size = 0.2)\n",
    "\n",
    "    SVMparameters = {'C':[.75,1,1.25,1.5,2],'kernel':['linear','rbf','sigmoid','poly'],'coef0':[0,.001,.01,.1,.25,.5]}\n",
    "    SVM_collect = grid_search.GridSearchCV(svm.SVC(), SVMparameters)\n",
    "    SVM_bin = grid_search.GridSearchCV(svm.SVC(), SVMparameters)\n",
    "    #KNN_collect=KNeighborsClassifier()\n",
    "    SVM_collect.fit(training[preds],training[target])\n",
    "    predictions_collect = SVM_collect.predict(testing[preds])\n",
    "    \n",
    "    SVM_bin.fit(training[preds],training[target_bin])\n",
    "    predictions_bin = SVM_bin.predict(testing[preds])\n",
    "    '''print(KNN_collect.best_estimator_.n_neighbors) \n",
    "    print(KNN_collect.best_estimator_.weights)'''\n",
    "    #print(metrics.accuracy_score(testing[target], predictions_collect))\n",
    "    acc+=metrics.accuracy_score(testing[target], predictions_collect)\n",
    "    acc_bin+=metrics.accuracy_score(testing[target_bin], predictions_bin)\n",
    "\n",
    "final_acc=(acc/30)\n",
    "av_acc=(acc_bin/30)\n",
    "print(\"Average accuracy:\" +str(final_acc))\n",
    "print(\"Average accuracy (binary):\" +str(av_acc))"
   ]
  },
  {
   "cell_type": "code",
   "execution_count": null,
   "metadata": {
    "collapsed": true
   },
   "outputs": [],
   "source": []
  }
 ],
 "metadata": {
  "anaconda-cloud": {},
  "kernelspec": {
   "display_name": "Python 3",
   "language": "python",
   "name": "python3"
  },
  "language_info": {
   "codemirror_mode": {
    "name": "ipython",
    "version": 3
   },
   "file_extension": ".py",
   "mimetype": "text/x-python",
   "name": "python",
   "nbconvert_exporter": "python",
   "pygments_lexer": "ipython3",
   "version": "3.7.3"
  }
 },
 "nbformat": 4,
 "nbformat_minor": 1
}
